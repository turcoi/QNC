{
 "cells": [
  {
   "cell_type": "markdown",
   "metadata": {},
   "source": [
    "### 9-18: Simple Non-Parametric Tests\n",
    "Isabella Turco  \n",
    "QNC"
   ]
  },
  {
   "cell_type": "markdown",
   "metadata": {},
   "source": [
    "#### Scenario 1\n",
    "\n",
    "I would use a Mann-Whitney test because the rocks are in different groups and I would expect that there is some difference in the rocks but the distribution of their responses would be very similar overall."
   ]
  },
  {
   "cell_type": "markdown",
   "metadata": {},
   "source": [
    "#### Scenario 2\n",
    "\n",
    "I would use a Wilcoxen signed-rank test because the comparison would be age before and after and I would want to compare the medians of the pre vs post treatment data points."
   ]
  },
  {
   "cell_type": "markdown",
   "metadata": {},
   "source": [
    "#### Scenario 3\n",
    "\n",
    "I would use a sign-test to compare the inital survey results to the post-product trial survery results to see if the mean \"liking of the product\" changes in one direction because I am both interested in if there is a difference between these two points, but also the direction of the effect. A positive result would indicate that their liking has increased."
   ]
  }
 ],
 "metadata": {
  "kernelspec": {
   "display_name": "base",
   "language": "python",
   "name": "python3"
  },
  "language_info": {
   "codemirror_mode": {
    "name": "ipython",
    "version": 3
   },
   "file_extension": ".py",
   "mimetype": "text/x-python",
   "name": "python",
   "nbconvert_exporter": "python",
   "pygments_lexer": "ipython3",
   "version": "3.11.5"
  }
 },
 "nbformat": 4,
 "nbformat_minor": 2
}
