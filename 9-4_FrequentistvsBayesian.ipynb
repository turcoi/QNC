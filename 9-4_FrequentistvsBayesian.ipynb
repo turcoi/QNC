{
 "cells": [
  {
   "cell_type": "markdown",
   "metadata": {},
   "source": [
    "## 9/4: Frequentist vs Bayesian Approaches\n",
    "Isabella Turco  \n",
    "Quantitative Neuro Core"
   ]
  },
  {
   "cell_type": "code",
   "execution_count": 1,
   "metadata": {},
   "outputs": [],
   "source": [
    "import numpy as np"
   ]
  },
  {
   "cell_type": "markdown",
   "metadata": {},
   "source": [
    "#### 1) If someone gets a positive test, is it \"statistically significant\" at the p<0.05 level? Why or why not?  \n",
    "\n",
    "HIV test on 1,000 persons: False positive rate = 5% (0.05) --> 1,000 * 0.05 = 50 false positives, False negative rate = 0 --> 0 false negatives    \n",
    "\n",
    "This is not “statistically significant” at the p <0.05 level. Given that I don’t know how many true positives to expect in this case, p would be greater than or equal to 0.05 because it would be expected that a positive result would occur at least 5% of the time, even given that the null hypothesis is true."
   ]
  },
  {
   "cell_type": "markdown",
   "metadata": {},
   "source": [
    "### 2) What is the probability that if someone gets a positive test, that person is infected?"
   ]
  },
  {
   "cell_type": "code",
   "execution_count": 2,
   "metadata": {},
   "outputs": [],
   "source": [
    "p_hiv_positive = np.arange(0,1.1,0.1)\n",
    "p_hiv_negative = 1 - p_hiv_positive\n",
    "p_positive_test_given_hiv_positive = 1\n",
    "p_positive_test_given_hiv_negative = 0.05\n",
    "p_positive_test = p_positive_test_given_hiv_positive * p_hiv_positive + p_positive_test_given_hiv_negative * p_hiv_negative\n",
    "p_hiv_positive_given_positive_test = (p_positive_test_given_hiv_positive * p_hiv_positive) / p_positive_test"
   ]
  },
  {
   "cell_type": "code",
   "execution_count": 3,
   "metadata": {},
   "outputs": [
    {
     "name": "stdout",
     "output_type": "stream",
     "text": [
      "p(hiv+): [0.  0.1 0.2 0.3 0.4 0.5 0.6 0.7 0.8 0.9 1. ]\n",
      "p(hiv-): [1.  0.9 0.8 0.7 0.6 0.5 0.4 0.3 0.2 0.1 0. ]\n",
      "p(+test|HIV+): 1\n",
      "p(+test|HIV-): 0.05\n",
      "p(+test): [0.05  0.145 0.24  0.335 0.43  0.525 0.62  0.715 0.81  0.905 1.   ]\n",
      "p(HIV+|+test): [0.         0.68965517 0.83333333 0.89552239 0.93023256 0.95238095\n",
      " 0.96774194 0.97902098 0.98765432 0.99447514 1.        ]\n"
     ]
    }
   ],
   "source": [
    "print(\"p(hiv+):\",p_hiv_positive)\n",
    "print(\"p(hiv-):\",p_hiv_negative)\n",
    "print(\"p(+test|HIV+):\",p_positive_test_given_hiv_positive)\n",
    "print(\"p(+test|HIV-):\",p_positive_test_given_hiv_negative)\n",
    "print(\"p(+test):\",p_positive_test)\n",
    "print(\"p(HIV+|+test):\",p_hiv_positive_given_positive_test)"
   ]
  }
 ],
 "metadata": {
  "kernelspec": {
   "display_name": "base",
   "language": "python",
   "name": "python3"
  },
  "language_info": {
   "codemirror_mode": {
    "name": "ipython",
    "version": 3
   },
   "file_extension": ".py",
   "mimetype": "text/x-python",
   "name": "python",
   "nbconvert_exporter": "python",
   "pygments_lexer": "ipython3",
   "version": "3.11.5"
  }
 },
 "nbformat": 4,
 "nbformat_minor": 2
}
