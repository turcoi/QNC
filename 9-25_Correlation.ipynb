{
 "cells": [
  {
   "cell_type": "markdown",
   "metadata": {},
   "source": [
    "### 9/25: Correlation\n",
    "\n",
    "Isabella Turco  \n",
    "QNC"
   ]
  },
  {
   "cell_type": "code",
   "execution_count": 26,
   "metadata": {},
   "outputs": [],
   "source": [
    "import numpy as np \n",
    "import matplotlib.pyplot as plt\n",
    "import math\n",
    "import scipy.stats as st\n",
    "from statsmodels.stats.power import NormalIndPower, TTestIndPower"
   ]
  },
  {
   "cell_type": "markdown",
   "metadata": {},
   "source": [
    "#### Parametric Correlation Coefficient"
   ]
  },
  {
   "cell_type": "code",
   "execution_count": 3,
   "metadata": {},
   "outputs": [],
   "source": [
    "wing_length = [10.4, 10.8, 11.1, 10.2, 10.3, 10.2, 10.7, 10.5, 10.8, 11.2, 10.6, 11.4]\n",
    "tail_length = [7.4, 7.6, 7.9, 7.2, 7.4, 7.1, 7.4, 7.2, 7.8, 7.7, 7.8, 8.3]"
   ]
  },
  {
   "cell_type": "code",
   "execution_count": 4,
   "metadata": {},
   "outputs": [
    {
     "data": {
      "image/png": "[encoded data removed]",
      "text/plain": [
       "<Figure size 640x480 with 1 Axes>"
      ]
     },
     "metadata": {},
     "output_type": "display_data"
    }
   ],
   "source": [
    "plt.scatter(wing_length, tail_length)\n",
    "plt.xlabel(\"Wing Length (cm)\")\n",
    "plt.ylabel(\"Tail Length (cm)\")\n",
    "plt.title(\"Association Between Wing and Tail Lengths\")\n",
    "plt.show()"
   ]
  },
  {
   "cell_type": "markdown",
   "metadata": {},
   "source": [
    "It seems that as wing length increases, tail length also increases."
   ]
  },
  {
   "cell_type": "markdown",
   "metadata": {},
   "source": [
    "#### Correlation Coefficient"
   ]
  },
  {
   "cell_type": "code",
   "execution_count": 5,
   "metadata": {},
   "outputs": [
    {
     "name": "stdout",
     "output_type": "stream",
     "text": [
      "Manually Calculated Correlation Coefficient: 0.8703545613058228\n",
      "Correlation Coefficient Using numpy.corrcoef: 0.8703545613058227\n"
     ]
    }
   ],
   "source": [
    "# manually calculate correclation coefficient \n",
    "gns_wing, gns_tail, cov, sum_wing, sum_tail = 0, 0, 0, 0, 0\n",
    "\n",
    "for k in range(len(wing_length)):\n",
    "    gns_wing += wing_length[k]/len(wing_length)\n",
    "\n",
    "for k in range(len(tail_length)):\n",
    "    gns_tail += tail_length[k]/len(tail_length)\n",
    "\n",
    "for k in range(len(wing_length)):\n",
    "    cov += (wing_length[k]-gns_wing)*(tail_length[k]-gns_tail)/(len(wing_length))\n",
    "\n",
    "for k in range(len(wing_length)):\n",
    "    sum_wing += (wing_length[k]-gns_wing)**2\n",
    "\n",
    "sa_wing = np.sqrt(sum_wing/len(wing_length))\n",
    "\n",
    "for k in range(len(tail_length)):\n",
    "    sum_tail += (tail_length[k]-gns_tail)**2\n",
    "    \n",
    "sa_tail = np.sqrt(sum_tail/len(tail_length))\n",
    "\n",
    "corr = cov/(sa_wing*sa_tail)\n",
    "\n",
    "print(f\"Manually Calculated Correlation Coefficient: {corr}\")\n",
    "\n",
    "# use corrcoef\n",
    "r_xy_np = np.corrcoef(wing_length, tail_length)[1,0]\n",
    "r_yx_np = np.corrcoef(tail_length, wing_length)[1,0]\n",
    "print(f\"Correlation Coefficient Using numpy.corrcoef: {r_yx_np}\")"
   ]
  },
  {
   "cell_type": "markdown",
   "metadata": {},
   "source": [
    "#### Standard Error"
   ]
  },
  {
   "cell_type": "code",
   "execution_count": 6,
   "metadata": {},
   "outputs": [
    {
     "name": "stdout",
     "output_type": "stream",
     "text": [
      "Standard Error of Correlation Coefficient: 0.1557186365256737\n"
     ]
    }
   ],
   "source": [
    "r = corr\n",
    "n = len(wing_length)\n",
    "se = math.sqrt((1 - r**2) / (n - 2))\n",
    "print(f\"Standard Error of Correlation Coefficient: {se}\")\n"
   ]
  },
  {
   "cell_type": "markdown",
   "metadata": {},
   "source": [
    "#### Confidence Intervals"
   ]
  },
  {
   "cell_type": "code",
   "execution_count": 19,
   "metadata": {},
   "outputs": [
    {
     "name": "stdout",
     "output_type": "stream",
     "text": [
      "95% Confidence Interval: (0.592311078084479,0.9631598602746105)\n"
     ]
    }
   ],
   "source": [
    "# fisher's z-transformation of r \n",
    "z = 0.5 * np.log((1 + r) / (1 - r))\n",
    "# compute sd\n",
    "s_z = math.sqrt(1 / (n - 3))\n",
    "# compute confidence interval in z-space \n",
    "z_criterion = st.norm.ppf(0.975)\n",
    "ci_lower_z = z - z_criterion * s_z\n",
    "ci_upper_z = z + z_criterion * s_z\n",
    "# convert confidence interval back to r-space \n",
    "ci_lower_r = (math.e**(2 * ci_lower_z) - 1) / (math.e**(2 * ci_lower_z) + 1)\n",
    "ci_upper_r = (math.e**(2 * ci_upper_z) - 1) / (math.e**(2 * ci_upper_z) +1)\n",
    "print(f\"95% Confidence Interval: ({ci_lower_r},{ci_upper_r})\")"
   ]
  },
  {
   "cell_type": "markdown",
   "metadata": {},
   "source": [
    "#### T-Test"
   ]
  },
  {
   "cell_type": "code",
   "execution_count": 22,
   "metadata": {},
   "outputs": [
    {
     "name": "stdout",
     "output_type": "stream",
     "text": [
      "Testing Against the Null Hypothesis R = 0, P = 0.00023110594312057223\n",
      "Yes, this value is significant.\n"
     ]
    }
   ],
   "source": [
    "t_stat = r * np.sqrt((n - 2) / (1 - r**2))\n",
    "p_val1 = 2 * st.t.sf(np.abs(t_stat), n - 2)\n",
    "print(f\"Testing Against the Null Hypothesis r = 0, p = {p_val1}\")\n",
    "print(\"Yes, this value is significant.\")"
   ]
  },
  {
   "cell_type": "code",
   "execution_count": 25,
   "metadata": {},
   "outputs": [
    {
     "name": "stdout",
     "output_type": "stream",
     "text": [
      "Testing Against the Null Hypothesis r = 0.75, p = 0.2780303018608823\n",
      "No, this value is not significant.\n"
     ]
    }
   ],
   "source": [
    "r_obs = r\n",
    "r_hyp = 0.75\n",
    "z_obs = 0.5 * np.log((1 + r_obs) / (1 - r_obs))\n",
    "z_hyp = 0.5 * np.log((1 + r_hyp) / (1 - r_hyp))\n",
    "\n",
    "se_z = 1 / np.sqrt(n - 3)\n",
    "\n",
    "z_stat = (z_obs - z_hyp) / se_z\n",
    "\n",
    "p_val2 = 2 * st.norm.sf(np.abs(z_stat))\n",
    "\n",
    "print(f\"Testing Against the Null Hypothesis r = 0.75, p = {p_val2}\")\n",
    "print(\"No, this value is not significant.\")\n"
   ]
  },
  {
   "cell_type": "markdown",
   "metadata": {},
   "source": [
    "#### Statistical Power and Sample Size"
   ]
  },
  {
   "cell_type": "code",
   "execution_count": 44,
   "metadata": {},
   "outputs": [
    {
     "name": "stdout",
     "output_type": "stream",
     "text": [
      "Sample Size: [10.]\n",
      "Power: [0.23289822]\n",
      "Sample Size: 2.8208055887332946\n",
      "Power: 0.0999999790325032\n",
      "Sample Size: 8.234114180058997\n",
      "Power: 0.20000000000018672\n",
      "Sample Size: 13.641036893988533\n",
      "Power: 0.3000000032046303\n",
      "Sample Size: 19.297942983258928\n",
      "Power: 0.40000000000886343\n",
      "Sample Size: 25.459392862487867\n",
      "Power: 0.49999999997104416\n",
      "Sample Size: 32.46913724858134\n",
      "Power: 0.5999999999690621\n",
      "Sample Size: 40.909792572728584\n",
      "Power: 0.6999999999992856\n",
      "Sample Size: 52.02447339995515\n",
      "Power: 0.8000000002016563\n",
      "Sample Size: 69.6461559368317\n",
      "Power: 0.900000000862949\n",
      "Sample Size: 5000.0\n",
      "Power: 1.0\n"
     ]
    },
    {
     "name": "stderr",
     "output_type": "stream",
     "text": [
      "/Users/iturco/anaconda3/lib/python3.11/site-packages/statsmodels/stats/power.py:525: ConvergenceWarning: \n",
      "Failed to converge on a solution.\n",
      "\n",
      "  warnings.warn(convergence_doc, ConvergenceWarning)\n"
     ]
    }
   ],
   "source": [
    "r_threshold = 0.5\n",
    "alpha = 0.05 \n",
    "power = np.arange(0,1.1,0.1)\n",
    "\n",
    "z_threshold = 0.5 * np.log((1 + r_threshold) / (1 - r_threshold))\n",
    "\n",
    "power_analysis = NormalIndPower()\n",
    "power_values, sample_sizes = [], []\n",
    "for power_val in power:\n",
    "    sample_size = power_analysis.solve_power(effect_size = z_threshold,alpha = alpha, power = power_val, alternative = 'two-sided')\n",
    "    sample_sizes.append(sample_size)\n",
    "    observed_power = power_analysis.power(effect_size = z_threshold, nobs1 = sample_size, alpha = alpha, alternative='two-sided')\n",
    "    power_values.append(observed_power)\n",
    "\n",
    "for s,p in zip(sample_sizes, power_values):\n",
    "    print(f\"Sample Size: {s}\")\n",
    "    print(f\"Power: {p}\")"
   ]
  }
 ],
 "metadata": {
  "kernelspec": {
   "display_name": "base",
   "language": "python",
   "name": "python3"
  },
  "language_info": {
   "codemirror_mode": {
    "name": "ipython",
    "version": 3
   },
   "file_extension": ".py",
   "mimetype": "text/x-python",
   "name": "python",
   "nbconvert_exporter": "python",
   "pygments_lexer": "ipython3",
   "version": "3.11.5"
  }
 },
 "nbformat": 4,
 "nbformat_minor": 2
}
