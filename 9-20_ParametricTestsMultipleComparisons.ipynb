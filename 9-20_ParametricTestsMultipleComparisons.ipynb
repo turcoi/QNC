{
 "cells": [
  {
   "cell_type": "markdown",
   "metadata": {},
   "source": [
    "### 9-20: Parametric Tests and Multiple Comparisons\n",
    "Isabella Turco  \n",
    "QNC "
   ]
  }
 ],
 "metadata": {
  "language_info": {
   "name": "python"
  }
 },
 "nbformat": 4,
 "nbformat_minor": 2
}
